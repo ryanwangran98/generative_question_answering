{
 "cells": [
  {
   "cell_type": "code",
   "execution_count": null,
   "metadata": {},
   "outputs": [],
   "source": [
    "\n",
    "# import os \n",
    "# os.environ['XDG_CACHE_HOME']='./'\n",
    "# os.environ['TRANSFORMERS_OFFLINE']='1'\n",
    "# import torch\n",
    "\n",
    "# from transformers import (\n",
    "\n",
    "#     AutoModelForCausalLM,\n",
    "#     AutoTokenizer,\n",
    "#     GenerationMixin\n",
    "  \n",
    "# )\n",
    "# from transformers import AutoModelForCausalLM, AutoTokenizer\n",
    "# from transformers.generation.utils import GenerationConfig\n",
    "# tokenizer = AutoTokenizer.from_pretrained(\"/home/wangran108/question-answering/output_dir_gpt\", )\n",
    "# model = AutoModelForCausalLM.from_pretrained(\"/home/wangran108/question-answering/output_dir_gpt\")\n",
    "# model=model.to('cuda')"
   ]
  },
  {
   "cell_type": "code",
   "execution_count": null,
   "metadata": {},
   "outputs": [],
   "source": []
  }
 ],
 "metadata": {
  "kernelspec": {
   "display_name": "Python 3.8.13 ('py38': conda)",
   "language": "python",
   "name": "python3"
  },
  "language_info": {
   "name": "python",
   "version": "3.8.13"
  },
  "orig_nbformat": 4,
  "vscode": {
   "interpreter": {
    "hash": "0969a4ec9de38923953f74fe912da12a0848938bd2b4a11fb83d9eb5921848aa"
   }
  }
 },
 "nbformat": 4,
 "nbformat_minor": 2
}
